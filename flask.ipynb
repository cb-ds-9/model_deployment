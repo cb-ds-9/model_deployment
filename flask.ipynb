{
 "cells": [
  {
   "cell_type": "markdown",
   "id": "00ecd297-f6b0-4878-b8e4-7a5d4531a372",
   "metadata": {},
   "source": [
    "### Your First Flask Application"
   ]
  },
  {
   "cell_type": "markdown",
   "id": "0520eb69-0e96-47b8-a786-d9db972bd5c6",
   "metadata": {},
   "source": [
    "Let's create a simple webpage that will just show Hello, World!"
   ]
  },
  {
   "cell_type": "markdown",
   "id": "8c7f39d9-2714-41b8-bc15-fd127c27aa20",
   "metadata": {},
   "source": [
    "We will build our app gradually: The first version will be static app."
   ]
  },
  {
   "cell_type": "code",
   "execution_count": 8,
   "id": "9751dc11-8197-44fd-b467-cda2a92c06c2",
   "metadata": {},
   "outputs": [
    {
     "name": "stdout",
     "output_type": "stream",
     "text": [
      "Overwriting hello.py\n"
     ]
    }
   ],
   "source": [
    "%%writefile hello.py\n",
    "from flask import Flask\n",
    "\n",
    "app = Flask(__name__)\n",
    "\n",
    "\n",
    "@app.route('/')\n",
    "def hello():\n",
    "    return 'Hello, World! This is my first flask app'\n",
    "\n",
    "@app.route('/login')\n",
    "def login():\n",
    "    return 'No passwords, all welecome'\n",
    "\n",
    "@app.route('/predict')\n",
    "def predict():\n",
    "    return 'No Snow Tomorrow!'\n",
    "\n",
    "if __name__ == '__main__':\n",
    "    app.run()\n"
   ]
  },
  {
   "cell_type": "markdown",
   "id": "b1ad1d8d-d019-414e-9596-048d41c657fe",
   "metadata": {},
   "source": [
    "> app = `Flask(__name__)` will creates the Flask instance\n",
    "\n",
    ">` __name__` is the name of the current Python module\n",
    "\n",
    "> route is a `decorator` that connects the url to a function\n",
    "\n",
    "> In pyhton, `decorator` is a function that modify the functionality of other functions \n",
    "\n",
    "> Note that we have several routes that are connected to different functins. For example, if the user accessed `/predict` route, the app will return `No Snow Tomorrow!`, you can think of theses different routes as the different links within the same webapage.\n"
   ]
  },
  {
   "cell_type": "markdown",
   "id": "fe3de895-e371-4edf-b1cd-99b8d6186cf9",
   "metadata": {},
   "source": [
    "**Class discussion**:\n",
    "- What do you see when you test different routes?\n",
    "- What do you think the next level of complexity should be for this app to be more interesting."
   ]
  },
  {
   "cell_type": "markdown",
   "id": "b5e755b8-8804-42d5-b5ee-214b0f2d1f50",
   "metadata": {},
   "source": [
    "### HTML Escaping"
   ]
  },
  {
   "cell_type": "code",
   "execution_count": 17,
   "id": "c87835fe-5d64-47fb-8fb8-f4fa08611c47",
   "metadata": {},
   "outputs": [
    {
     "name": "stdout",
     "output_type": "stream",
     "text": [
      "Overwriting hello.py\n"
     ]
    }
   ],
   "source": [
    "%%writefile hello.py\n",
    "from flask import Flask\n",
    "from markupsafe import escape\n",
    "\n",
    "\n",
    "app = Flask(__name__)\n",
    "\n",
    "\n",
    "@app.route('/')\n",
    "def hello():\n",
    "    return 'Hello, World! This is my first flask app'\n",
    "\n",
    "@app.route('/login')\n",
    "def login():\n",
    "    return 'No passwords, all welecome'\n",
    "\n",
    "@app.route('/user/<username>')\n",
    "def show_user_profile(username):\n",
    "    # show the user profile for that user\n",
    "    return f'Welcome {escape(username)}'\n",
    "if __name__ == '__main__':\n",
    "    app.run()\n",
    "\n"
   ]
  },
  {
   "cell_type": "markdown",
   "id": "ab3796af-861d-47df-9408-0852cf6c97e1",
   "metadata": {},
   "source": [
    "### Rendering a template"
   ]
  },
  {
   "cell_type": "markdown",
   "id": "f5ce8fe1-37a4-4b76-b272-584e71a0029d",
   "metadata": {},
   "source": [
    "We can use`render_template()` method to render html templates. We need provide the name of the template and the variables we want to pass to the template engine as keyword arguments. "
   ]
  },
  {
   "cell_type": "code",
   "execution_count": 42,
   "id": "ee581cd5-8022-45c2-8d36-7920f9f42789",
   "metadata": {},
   "outputs": [
    {
     "name": "stdout",
     "output_type": "stream",
     "text": [
      "Overwriting hello.py\n"
     ]
    }
   ],
   "source": [
    "%%writefile hello.py\n",
    "\n",
    "\n",
    "from flask import render_template\n",
    "from flask import Flask\n",
    "from markupsafe import escape\n",
    "\n",
    "\n",
    "app = Flask(__name__)\n",
    "\n",
    "\n",
    "@app.route('/')\n",
    "def hello():\n",
    "    return 'Hello, World! This is my first flask app'\n",
    "\n",
    "@app.route('/login')\n",
    "def login():\n",
    "    return 'No passwords, all welecome'\n",
    "\n",
    "@app.route('/welcome/')\n",
    "@app.route('/welcome/<name>')\n",
    "def welcome(name=None):\n",
    "    return render_template('welcome.html', name=name)\n",
    "if __name__ == '__main__':\n",
    "    app.run()\n"
   ]
  },
  {
   "cell_type": "markdown",
   "id": "472a81cf-a666-4707-8a14-d92ca8f3aeab",
   "metadata": {},
   "source": [
    "### A trivial app"
   ]
  },
  {
   "cell_type": "markdown",
   "id": "45be0ac2-8fc6-4de7-b620-68272a3d4f39",
   "metadata": {},
   "source": [
    "Now, let's think about the ML-powered app that we want to build. Essentially we need the user to interact with the app in 3 ways:\n",
    "\n",
    "- Provide inputs\n",
    "- Run the model\n",
    "- Get the outputs"
   ]
  },
  {
   "cell_type": "markdown",
   "id": "c66e7505-1259-4215-9d5d-3b32b349a082",
   "metadata": {},
   "source": [
    "To interact with the app, we need two mainly types of methods\n",
    "\n",
    "1. Post method\n",
    "2. Get method\n",
    "\n"
   ]
  },
  {
   "cell_type": "markdown",
   "id": "3b0d696a-ab46-4b84-91eb-d71a87c1c27d",
   "metadata": {},
   "source": [
    "We will use the POST method requests to supply additional data from the client (browser) to the server in the message body."
   ]
  },
  {
   "cell_type": "code",
   "execution_count": 46,
   "id": "fb33cae1-dec7-4b49-9724-641fd904d7b8",
   "metadata": {},
   "outputs": [
    {
     "name": "stdout",
     "output_type": "stream",
     "text": [
      "Overwriting hello.py\n"
     ]
    }
   ],
   "source": [
    "%%writefile hello.py\n",
    "\n",
    "\n",
    "from flask import render_template\n",
    "from flask import Flask\n",
    "from markupsafe import escape\n",
    "from flask import request\n",
    "\n",
    "\n",
    "\n",
    "app = Flask(__name__)\n",
    "\n",
    "\n",
    "@app.route('/')\n",
    "def hello():\n",
    "    return 'Hello, World! This is my first flask app'\n",
    "\n",
    "@app.route('/predict', methods=['GET', 'POST'])\n",
    "def predict():\n",
    "    if request.method == 'POST':\n",
    "        thismonth = request.form['thismonth']\n",
    "        thisyear = request.form['thisyear']\n",
    "        return f\"We are in {thismonth}, {thisyear}. Enjoy what is left of it.\"\n",
    "    return '''\n",
    "        <h1> My Trivial App </h1>\n",
    "    \n",
    "        <form method=\"post\">\n",
    "            <p><input type=text name=thismonth placeholder=\"Enter This Month Value\" >\n",
    "             <p><input type=text name=thisyear placeholder=\"Enter This Year Value\">\n",
    "            <p><input type=submit value=predict>\n",
    "        </form>\n",
    "    '''\n",
    "\n",
    "@app.route('/welcome/')\n",
    "@app.route('/welcome/<name>')\n",
    "def welcome(name=None):\n",
    "    return render_template('welcome.html', name=name)\n",
    "\n",
    "\n",
    "if __name__ == '__main__':\n",
    "    app.run()\n",
    "\n"
   ]
  },
  {
   "cell_type": "markdown",
   "id": "bc3c9212-ea2f-4f62-99eb-53a30e96385f",
   "metadata": {},
   "source": [
    "### The full app"
   ]
  },
  {
   "cell_type": "markdown",
   "id": "2b7b6797-3cea-4fa4-94be-c0a64dba4e83",
   "metadata": {},
   "source": [
    "Let's take our app to the next level. I will be using a model that I developed before to predict the interfacial tension IFT between oil and water when CO2 or CH4 is added to the mixture. To read more about this work, you can visit the [project link](https://github.com/dataubc/Modeling_IFT_for_heavy_oil_emulsion)"
   ]
  },
  {
   "cell_type": "markdown",
   "id": "21122788-ced1-47a7-b71e-f0a0b3315d21",
   "metadata": {},
   "source": [
    "for all we care about for model deployment, you just need to know that this model takes 4 inputs, namely:\n",
    "\n",
    "- Gas type, CO2 or CH4\n",
    "- Water content in the mixture, fraction between 0 and 1\n",
    "- The viscosity of the oil used in the mixture\n",
    "\n",
    "And will give back one output will be the the IFT"
   ]
  },
  {
   "cell_type": "code",
   "execution_count": 54,
   "id": "71e9769d-902c-455d-b1f1-563a9edef7d0",
   "metadata": {},
   "outputs": [
    {
     "name": "stdout",
     "output_type": "stream",
     "text": [
      "Overwriting hello.py\n"
     ]
    }
   ],
   "source": [
    "%%writefile hello.py\n",
    "\n",
    "\n",
    "from flask import render_template\n",
    "from flask import Flask\n",
    "from markupsafe import escape\n",
    "from flask import request\n",
    "from joblib import load\n",
    "import pandas as pd\n",
    "\n",
    "app = Flask(__name__)\n",
    "\n",
    "model_path = \"models/model.pkl\"\n",
    "with open(model_path, 'rb') as file:\n",
    "    model = load(file)\n",
    "\n",
    "@app.route('/')\n",
    "def hello():\n",
    "    return 'Hello, World! This is my first flask app'\n",
    "\n",
    "@app.route('/predict', methods=['GET', 'POST'])\n",
    "def predict():\n",
    "    if request.method == 'POST':\n",
    "        gas_type = request.form['gas_type']\n",
    "        water_content = float(request.form['water_content'])\n",
    "        viscosity = float(request.form['viscosity'])\n",
    "        time_minutes = float(request.form['time_minutes'])\n",
    "        inputs = [[gas_type,water_content,viscosity,time_minutes]]\n",
    "        df = pd.DataFrame(inputs, columns=['Gas', 'Water_content',\n",
    "                                         'viscosity','time_minutes'])\n",
    "        prediction = model.predict(df)[0]\n",
    "        prediction = round(prediction, 2)\n",
    "        \n",
    "        return render_template('predict.html', prediction_text='Estimated IFT =  {} mN/m'.format( prediction))\n",
    "    \n",
    "\n",
    "@app.route('/welcome/')\n",
    "@app.route('/welcome/<name>')\n",
    "def welcome(name=None):\n",
    "    return render_template('welcome.html', name=name)\n",
    "\n",
    "\n",
    "if __name__ == '__main__':\n",
    "    app.run()\n",
    "\n",
    "\n"
   ]
  },
  {
   "cell_type": "code",
   "execution_count": null,
   "id": "0166da0a-62dd-4e1f-a901-e7eed273b8ee",
   "metadata": {},
   "outputs": [],
   "source": []
  }
 ],
 "metadata": {
  "kernelspec": {
   "display_name": "Python 3 (ipykernel)",
   "language": "python",
   "name": "python3"
  },
  "language_info": {
   "codemirror_mode": {
    "name": "ipython",
    "version": 3
   },
   "file_extension": ".py",
   "mimetype": "text/x-python",
   "name": "python",
   "nbconvert_exporter": "python",
   "pygments_lexer": "ipython3",
   "version": "3.8.13"
  }
 },
 "nbformat": 4,
 "nbformat_minor": 5
}
